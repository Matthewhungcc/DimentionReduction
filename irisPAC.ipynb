{
 "cells": [
  {
   "cell_type": "code",
   "execution_count": 1,
   "metadata": {},
   "outputs": [],
   "source": [
    "import ipyvolume as ipv\n",
    "import sklearn.datasets as dataset\n",
    "from sklearn.decomposition import PCA\n",
    "import matplotlib as mpl\n",
    "import matplotlib.pyplot as plt\n",
    "import plotly.express as px"
   ]
  },
  {
   "cell_type": "code",
   "execution_count": 2,
   "metadata": {},
   "outputs": [
    {
     "name": "stdout",
     "output_type": "stream",
     "text": [
      "[0 0 0 0 0 0 0 0 0 0 0 0 0 0 0 0 0 0 0 0 0 0 0 0 0 0 0 0 0 0 0 0 0 0 0 0 0\n",
      " 0 0 0 0 0 0 0 0 0 0 0 0 0 1 1 1 1 1 1 1 1 1 1 1 1 1 1 1 1 1 1 1 1 1 1 1 1\n",
      " 1 1 1 1 1 1 1 1 1 1 1 1 1 1 1 1 1 1 1 1 1 1 1 1 1 1 2 2 2 2 2 2 2 2 2 2 2\n",
      " 2 2 2 2 2 2 2 2 2 2 2 2 2 2 2 2 2 2 2 2 2 2 2 2 2 2 2 2 2 2 2 2 2 2 2 2 2\n",
      " 2 2]\n",
      "[[5.1 3.5 1.4 0.2]\n",
      " [4.9 3.  1.4 0.2]\n",
      " [4.7 3.2 1.3 0.2]\n",
      " [4.6 3.1 1.5 0.2]\n",
      " [5.  3.6 1.4 0.2]\n",
      " [5.4 3.9 1.7 0.4]\n",
      " [4.6 3.4 1.4 0.3]\n",
      " [5.  3.4 1.5 0.2]\n",
      " [4.4 2.9 1.4 0.2]\n",
      " [4.9 3.1 1.5 0.1]\n",
      " [5.4 3.7 1.5 0.2]\n",
      " [4.8 3.4 1.6 0.2]\n",
      " [4.8 3.  1.4 0.1]\n",
      " [4.3 3.  1.1 0.1]\n",
      " [5.8 4.  1.2 0.2]\n",
      " [5.7 4.4 1.5 0.4]\n",
      " [5.4 3.9 1.3 0.4]\n",
      " [5.1 3.5 1.4 0.3]\n",
      " [5.7 3.8 1.7 0.3]\n",
      " [5.1 3.8 1.5 0.3]\n",
      " [5.4 3.4 1.7 0.2]\n",
      " [5.1 3.7 1.5 0.4]\n",
      " [4.6 3.6 1.  0.2]\n",
      " [5.1 3.3 1.7 0.5]\n",
      " [4.8 3.4 1.9 0.2]\n",
      " [5.  3.  1.6 0.2]\n",
      " [5.  3.4 1.6 0.4]\n",
      " [5.2 3.5 1.5 0.2]\n",
      " [5.2 3.4 1.4 0.2]\n",
      " [4.7 3.2 1.6 0.2]\n",
      " [4.8 3.1 1.6 0.2]\n",
      " [5.4 3.4 1.5 0.4]\n",
      " [5.2 4.1 1.5 0.1]\n",
      " [5.5 4.2 1.4 0.2]\n",
      " [4.9 3.1 1.5 0.2]\n",
      " [5.  3.2 1.2 0.2]\n",
      " [5.5 3.5 1.3 0.2]\n",
      " [4.9 3.6 1.4 0.1]\n",
      " [4.4 3.  1.3 0.2]\n",
      " [5.1 3.4 1.5 0.2]\n",
      " [5.  3.5 1.3 0.3]\n",
      " [4.5 2.3 1.3 0.3]\n",
      " [4.4 3.2 1.3 0.2]\n",
      " [5.  3.5 1.6 0.6]\n",
      " [5.1 3.8 1.9 0.4]\n",
      " [4.8 3.  1.4 0.3]\n",
      " [5.1 3.8 1.6 0.2]\n",
      " [4.6 3.2 1.4 0.2]\n",
      " [5.3 3.7 1.5 0.2]\n",
      " [5.  3.3 1.4 0.2]\n",
      " [7.  3.2 4.7 1.4]\n",
      " [6.4 3.2 4.5 1.5]\n",
      " [6.9 3.1 4.9 1.5]\n",
      " [5.5 2.3 4.  1.3]\n",
      " [6.5 2.8 4.6 1.5]\n",
      " [5.7 2.8 4.5 1.3]\n",
      " [6.3 3.3 4.7 1.6]\n",
      " [4.9 2.4 3.3 1. ]\n",
      " [6.6 2.9 4.6 1.3]\n",
      " [5.2 2.7 3.9 1.4]\n",
      " [5.  2.  3.5 1. ]\n",
      " [5.9 3.  4.2 1.5]\n",
      " [6.  2.2 4.  1. ]\n",
      " [6.1 2.9 4.7 1.4]\n",
      " [5.6 2.9 3.6 1.3]\n",
      " [6.7 3.1 4.4 1.4]\n",
      " [5.6 3.  4.5 1.5]\n",
      " [5.8 2.7 4.1 1. ]\n",
      " [6.2 2.2 4.5 1.5]\n",
      " [5.6 2.5 3.9 1.1]\n",
      " [5.9 3.2 4.8 1.8]\n",
      " [6.1 2.8 4.  1.3]\n",
      " [6.3 2.5 4.9 1.5]\n",
      " [6.1 2.8 4.7 1.2]\n",
      " [6.4 2.9 4.3 1.3]\n",
      " [6.6 3.  4.4 1.4]\n",
      " [6.8 2.8 4.8 1.4]\n",
      " [6.7 3.  5.  1.7]\n",
      " [6.  2.9 4.5 1.5]\n",
      " [5.7 2.6 3.5 1. ]\n",
      " [5.5 2.4 3.8 1.1]\n",
      " [5.5 2.4 3.7 1. ]\n",
      " [5.8 2.7 3.9 1.2]\n",
      " [6.  2.7 5.1 1.6]\n",
      " [5.4 3.  4.5 1.5]\n",
      " [6.  3.4 4.5 1.6]\n",
      " [6.7 3.1 4.7 1.5]\n",
      " [6.3 2.3 4.4 1.3]\n",
      " [5.6 3.  4.1 1.3]\n",
      " [5.5 2.5 4.  1.3]\n",
      " [5.5 2.6 4.4 1.2]\n",
      " [6.1 3.  4.6 1.4]\n",
      " [5.8 2.6 4.  1.2]\n",
      " [5.  2.3 3.3 1. ]\n",
      " [5.6 2.7 4.2 1.3]\n",
      " [5.7 3.  4.2 1.2]\n",
      " [5.7 2.9 4.2 1.3]\n",
      " [6.2 2.9 4.3 1.3]\n",
      " [5.1 2.5 3.  1.1]\n",
      " [5.7 2.8 4.1 1.3]\n",
      " [6.3 3.3 6.  2.5]\n",
      " [5.8 2.7 5.1 1.9]\n",
      " [7.1 3.  5.9 2.1]\n",
      " [6.3 2.9 5.6 1.8]\n",
      " [6.5 3.  5.8 2.2]\n",
      " [7.6 3.  6.6 2.1]\n",
      " [4.9 2.5 4.5 1.7]\n",
      " [7.3 2.9 6.3 1.8]\n",
      " [6.7 2.5 5.8 1.8]\n",
      " [7.2 3.6 6.1 2.5]\n",
      " [6.5 3.2 5.1 2. ]\n",
      " [6.4 2.7 5.3 1.9]\n",
      " [6.8 3.  5.5 2.1]\n",
      " [5.7 2.5 5.  2. ]\n",
      " [5.8 2.8 5.1 2.4]\n",
      " [6.4 3.2 5.3 2.3]\n",
      " [6.5 3.  5.5 1.8]\n",
      " [7.7 3.8 6.7 2.2]\n",
      " [7.7 2.6 6.9 2.3]\n",
      " [6.  2.2 5.  1.5]\n",
      " [6.9 3.2 5.7 2.3]\n",
      " [5.6 2.8 4.9 2. ]\n",
      " [7.7 2.8 6.7 2. ]\n",
      " [6.3 2.7 4.9 1.8]\n",
      " [6.7 3.3 5.7 2.1]\n",
      " [7.2 3.2 6.  1.8]\n",
      " [6.2 2.8 4.8 1.8]\n",
      " [6.1 3.  4.9 1.8]\n",
      " [6.4 2.8 5.6 2.1]\n",
      " [7.2 3.  5.8 1.6]\n",
      " [7.4 2.8 6.1 1.9]\n",
      " [7.9 3.8 6.4 2. ]\n",
      " [6.4 2.8 5.6 2.2]\n",
      " [6.3 2.8 5.1 1.5]\n",
      " [6.1 2.6 5.6 1.4]\n",
      " [7.7 3.  6.1 2.3]\n",
      " [6.3 3.4 5.6 2.4]\n",
      " [6.4 3.1 5.5 1.8]\n",
      " [6.  3.  4.8 1.8]\n",
      " [6.9 3.1 5.4 2.1]\n",
      " [6.7 3.1 5.6 2.4]\n",
      " [6.9 3.1 5.1 2.3]\n",
      " [5.8 2.7 5.1 1.9]\n",
      " [6.8 3.2 5.9 2.3]\n",
      " [6.7 3.3 5.7 2.5]\n",
      " [6.7 3.  5.2 2.3]\n",
      " [6.3 2.5 5.  1.9]\n",
      " [6.5 3.  5.2 2. ]\n",
      " [6.2 3.4 5.4 2.3]\n",
      " [5.9 3.  5.1 1.8]]\n"
     ]
    }
   ],
   "source": [
    "iris = dataset.load_iris()\n",
    "X = iris.data\n",
    "Y = iris.target\n",
    "print(Y)\n",
    "print(X)"
   ]
  },
  {
   "cell_type": "code",
   "execution_count": 3,
   "metadata": {},
   "outputs": [
    {
     "data": {
      "image/png": "[encoded data removed]",
      "text/plain": [
       "<Figure size 640x480 with 1 Axes>"
      ]
     },
     "metadata": {},
     "output_type": "display_data"
    }
   ],
   "source": [
    "pca = PCA(n_components=4)\n",
    "new_X = pca.fit(X)\n",
    "fig = plt.bar(range(len(pca.explained_variance_ratio_)), pca.explained_variance_ratio_)\n",
    "plt.show()"
   ]
  },
  {
   "cell_type": "code",
   "execution_count": 4,
   "metadata": {},
   "outputs": [],
   "source": [
    "pca2D = PCA(n_components=2)\n",
    "proj2D = pca.fit_transform(X)\n",
    "pca3D = PCA(n_components=3)\n",
    "proj3D = pca.fit_transform(X)"
   ]
  },
  {
   "cell_type": "code",
   "execution_count": 5,
   "metadata": {},
   "outputs": [
    {
     "data": {
      "application/vnd.plotly.v1+json": {
       "config": {
        "plotlyServerURL": "https://plot.ly"
       },
       "data": [
        {
         "hovertemplate": "0=%{x}<br>1=%{y}<br>species=%{marker.color}<extra></extra>",
         "legendgroup": "",
         "marker": {
          "color": [
           0,
           0,
           0,
           0,
           0,
           0,
           0,
           0,
           0,
           0,
           0,
           0,
           0,
           0,
           0,
           0,
           0,
           0,
           0,
           0,
           0,
           0,
           0,
           0,
           0,
           0,
           0,
           0,
           0,
           0,
           0,
           0,
           0,
           0,
           0,
           0,
           0,
           0,
           0,
           0,
           0,
           0,
           0,
           0,
           0,
           0,
           0,
           0,
           0,
           0,
           1,
           1,
           1,
           1,
           1,
           1,
           1,
           1,
           1,
           1,
           1,
           1,
           1,
           1,
           1,
           1,
           1,
           1,
           1,
           1,
           1,
           1,
           1,
           1,
           1,
           1,
           1,
           1,
           1,
           1,
           1,
           1,
           1,
           1,
           1,
           1,
           1,
           1,
           1,
           1,
           1,
           1,
           1,
           1,
           1,
           1,
           1,
           1,
           1,
           1,
           2,
           2,
           2,
           2,
           2,
           2,
           2,
           2,
           2,
           2,
           2,
           2,
           2,
           2,
           2,
           2,
           2,
           2,
           2,
           2,
           2,
           2,
           2,
           2,
           2,
           2,
           2,
           2,
           2,
           2,
           2,
           2,
           2,
           2,
           2,
           2,
           2,
           2,
           2,
           2,
           2,
           2,
           2,
           2,
           2,
           2,
           2,
           2,
           2,
           2
          ],
          "coloraxis": "coloraxis",
          "symbol": "circle"
         },
         "mode": "markers",
         "name": "",
         "orientation": "v",
         "showlegend": false,
         "type": "scatter",
         "x": [
          -2.684125625969542,
          -2.7141416872943265,
          -2.888990569059299,
          -2.745342855641412,
          -2.7287165365545323,
          -2.2808596328444932,
          -2.8205377507406104,
          -2.6261449731466344,
          -2.886382731780555,
          -2.6727557978209555,
          -2.5069470906518574,
          -2.6127552309087245,
          -2.7861092661880194,
          -3.2238037438656546,
          -2.6447503899420304,
          -2.386039033531135,
          -2.6235278752244278,
          -2.648296706254383,
          -2.199820323617581,
          -2.5879863998787704,
          -2.3102562152425192,
          -2.543705228757158,
          -3.2159394156486125,
          -2.3027331822262083,
          -2.355754049123774,
          -2.5066689069258237,
          -2.4688200731213406,
          -2.562319906196018,
          -2.6395347153845443,
          -2.6319893872743476,
          -2.587398476689354,
          -2.4099324970021763,
          -2.6488623343499134,
          -2.598736749100589,
          -2.6369268781058004,
          -2.866241652118671,
          -2.625238049850374,
          -2.8006841154482234,
          -2.9805020437819953,
          -2.5900063139680976,
          -2.7701024260279037,
          -2.849368705043106,
          -2.9974065465949096,
          -2.4056144850974874,
          -2.209489237783681,
          -2.714451426757709,
          -2.538148258998942,
          -2.8394621676428518,
          -2.5430857498303947,
          -2.703359782335162,
          1.284825688858352,
          0.9324885323123182,
          1.4643023219913938,
          0.18331771995836993,
          1.088103257711666,
          0.6416690842580773,
          1.0950606626324466,
          -0.7491226698296581,
          1.0441318260534358,
          -0.008745404082897113,
          -0.507840883835327,
          0.5116985574475971,
          0.2649765081120461,
          0.9849345104708902,
          -0.17392537168176844,
          0.9278607809442472,
          0.6602837616969366,
          0.23610499331767118,
          0.9447337280198131,
          0.04522697629869929,
          1.1162831773500494,
          0.3578884179973069,
          1.2981838753589134,
          0.9217289224470369,
          0.7148533259114115,
          0.9001743731721675,
          1.3320244367220888,
          1.5578021550660706,
          0.8132906498175411,
          -0.3055837780243097,
          -0.0681264920683643,
          -0.1896224723785027,
          0.13642871155801442,
          1.380026435915511,
          0.5880064433398632,
          0.8068583125004121,
          1.2206908824443528,
          0.8150952357665997,
          0.24595767988669195,
          0.1664132171454563,
          0.46480028840377874,
          0.8908151984694491,
          0.23054802355945483,
          -0.7045317592446648,
          0.35698149470104656,
          0.3319344799450578,
          0.37621565106666993,
          0.6425760075543377,
          -0.9064698649488373,
          0.2990008418781428,
          2.531192727803628,
          1.4152358767039022,
          2.61667601599569,
          1.9715310530434356,
          2.3500059200446404,
          3.3970387360532595,
          0.521232243909773,
          2.9325870689936897,
          2.3212288165733783,
          2.9167509667860734,
          1.6617741536365316,
          1.803401952965091,
          2.1655917960801454,
          1.3461635794584512,
          1.5859282238732209,
          1.904456374793427,
          1.9496890593990694,
          3.4870553642902804,
          3.7956454220728846,
          1.300791712637657,
          2.427817913066046,
          1.19900110546556,
          3.4999200389245386,
          1.3887661316914652,
          2.275430503872205,
          2.614090473810832,
          1.2585081605114878,
          1.2911320591150208,
          2.123608722773895,
          2.3880030160034686,
          2.8416727781038715,
          3.230673661432094,
          2.15943764248905,
          1.4441612423295096,
          1.7812948100451123,
          3.076499931687188,
          2.144243314302082,
          1.9050981488140755,
          1.1693263393414999,
          2.107611143257242,
          2.3141547052356,
          1.9222678009026013,
          1.4152358767039022,
          2.5630133750774764,
          2.4187461827328254,
          1.944109794546968,
          1.527166614814517,
          1.7643457170444292,
          1.9009416142184234,
          1.3901888619479135
         ],
         "xaxis": "x",
         "y": [
          0.31939724658510305,
          -0.1770012250647806,
          -0.14494942608555744,
          -0.3182989792519163,
          0.3267545129349198,
          0.741330449062915,
          -0.08946138452856905,
          0.16338495969832867,
          -0.5783117541867042,
          -0.11377424587411686,
          0.6450688986485742,
          0.01472993916137436,
          -0.2351120002017185,
          -0.5113945870063825,
          1.1787646364375757,
          1.3380623304006531,
          0.8106795141812578,
          0.31184914459335483,
          0.8728390389622113,
          0.513560308749277,
          0.39134593565389447,
          0.43299606327902823,
          0.13346806953852564,
          0.09870885481409927,
          -0.037281859677382734,
          -0.14601688049526776,
          0.13095148943525017,
          0.3677188574342001,
          0.31203998023528307,
          -0.19696122492431467,
          -0.20431849127413357,
          0.4109242642295731,
          0.8133638202969622,
          1.0931457594493572,
          -0.12132234786586323,
          0.06936447158008058,
          0.5993700213794241,
          0.2686437377979823,
          -0.4879583444286158,
          0.22904383682701268,
          0.26352753374425647,
          -0.940960573641197,
          -0.3419260574716102,
          0.18887142893026015,
          0.43666314163918785,
          -0.2502082041852113,
          0.5037711444614377,
          -0.22794556949382783,
          0.5794100215198895,
          0.10770608249941162,
          0.6851604704673088,
          0.3183336382626288,
          0.5042628153092042,
          -0.8279590118206325,
          0.07459067519771612,
          -0.41824687156867923,
          0.28346827006152875,
          -1.0048909611818957,
          0.2283618997883956,
          -0.7230819050048347,
          -1.2659711905263942,
          -0.10398123549904077,
          -0.5500364636804748,
          -0.12481785412635765,
          -0.2548542087025897,
          0.46717949444151063,
          -0.352969665723851,
          -0.3336107668249156,
          -0.5431455507797667,
          -0.5838343774718646,
          -0.08461685219478861,
          -0.06892503165601409,
          -0.3277873083339176,
          -0.1827377936213677,
          0.14905594436978475,
          0.3285044738343233,
          0.24444087601634362,
          0.2674954473102546,
          -0.1633503006876166,
          -0.36826218975458813,
          -0.7051721317994657,
          -0.6802867635281337,
          -0.31403243824923693,
          -0.42095428731388235,
          -0.48428741998121894,
          0.19418231471315045,
          0.40761959361100714,
          -0.3720370599095018,
          -0.2685243966220153,
          -0.6819267248636272,
          -0.6707115445117209,
          -0.03446444436826912,
          -0.40438584800732535,
          -1.0122482275317148,
          -0.504910093337109,
          -0.21265468378117022,
          -0.29321892925141935,
          0.01773819011241614,
          -0.7560933665990144,
          -0.3488978064503363,
          -0.009849109498802801,
          -0.5749163475464901,
          0.3439031513417341,
          -0.17972790435224595,
          -0.0402609471425316,
          0.5508366730280554,
          -1.1927587270006463,
          0.3555000029774963,
          -0.24383150231069087,
          0.7827919488152781,
          0.2422284077550667,
          -0.21563761733355577,
          0.21627558507402442,
          -0.7768183473443404,
          -0.5396407140267195,
          0.11925069209197217,
          0.041943259663211024,
          1.1757393297134293,
          0.2573229734204794,
          -0.7611496364350637,
          0.3781960126170504,
          -0.6060915277579313,
          0.46067409891189504,
          -0.20439932735215124,
          0.334990605821677,
          0.5609013551230777,
          -0.17970479472274706,
          -0.1166686511740119,
          -0.2097294766773032,
          0.46463980470873645,
          0.3752691671951033,
          1.3741650867930475,
          -0.21727757866904956,
          -0.143413410457581,
          -0.499901681078137,
          0.6880856775711758,
          0.1400642010897892,
          0.04930052601302983,
          -0.16499026202311012,
          0.3722878719607974,
          0.18365127916901844,
          0.4092034668160619,
          -0.5749163475464901,
          0.2778626029291944,
          0.3047981978546915,
          0.18753230280060482,
          -0.3753169825804888,
          0.07885885451847535,
          0.11662795851202283,
          -0.28266093799055114
         ],
         "yaxis": "y"
        }
       ],
       "layout": {
        "coloraxis": {
         "colorbar": {
          "title": {
           "text": "species"
          }
         },
         "colorscale": [
          [
           0,
           "#0d0887"
          ],
          [
           0.1111111111111111,
           "#46039f"
          ],
          [
           0.2222222222222222,
           "#7201a8"
          ],
          [
           0.3333333333333333,
           "#9c179e"
          ],
          [
           0.4444444444444444,
           "#bd3786"
          ],
          [
           0.5555555555555556,
           "#d8576b"
          ],
          [
           0.6666666666666666,
           "#ed7953"
          ],
          [
           0.7777777777777778,
           "#fb9f3a"
          ],
          [
           0.8888888888888888,
           "#fdca26"
          ],
          [
           1,
           "#f0f921"
          ]
         ]
        },
        "legend": {
         "tracegroupgap": 0
        },
        "margin": {
         "t": 60
        },
        "template": {
         "data": {
          "bar": [
           {
            "error_x": {
             "color": "#2a3f5f"
            },
            "error_y": {
             "color": "#2a3f5f"
            },
            "marker": {
             "line": {
              "color": "#E5ECF6",
              "width": 0.5
             },
             "pattern": {
              "fillmode": "overlay",
              "size": 10,
              "solidity": 0.2
             }
            },
            "type": "bar"
           }
          ],
          "barpolar": [
           {
            "marker": {
             "line": {
              "color": "#E5ECF6",
              "width": 0.5
             },
             "pattern": {
              "fillmode": "overlay",
              "size": 10,
              "solidity": 0.2
             }
            },
            "type": "barpolar"
           }
          ],
          "carpet": [
           {
            "aaxis": {
             "endlinecolor": "#2a3f5f",
             "gridcolor": "white",
             "linecolor": "white",
             "minorgridcolor": "white",
             "startlinecolor": "#2a3f5f"
            },
            "baxis": {
             "endlinecolor": "#2a3f5f",
             "gridcolor": "white",
             "linecolor": "white",
             "minorgridcolor": "white",
             "startlinecolor": "#2a3f5f"
            },
            "type": "carpet"
           }
          ],
          "choropleth": [
           {
            "colorbar": {
             "outlinewidth": 0,
             "ticks": ""
            },
            "type": "choropleth"
           }
          ],
          "contour": [
           {
            "colorbar": {
             "outlinewidth": 0,
             "ticks": ""
            },
            "colorscale": [
             [
              0,
              "#0d0887"
             ],
             [
              0.1111111111111111,
              "#46039f"
             ],
             [
              0.2222222222222222,
              "#7201a8"
             ],
             [
              0.3333333333333333,
              "#9c179e"
             ],
             [
              0.4444444444444444,
              "#bd3786"
             ],
             [
              0.5555555555555556,
              "#d8576b"
             ],
             [
              0.6666666666666666,
              "#ed7953"
             ],
             [
              0.7777777777777778,
              "#fb9f3a"
             ],
             [
              0.8888888888888888,
              "#fdca26"
             ],
             [
              1,
              "#f0f921"
             ]
            ],
            "type": "contour"
           }
          ],
          "contourcarpet": [
           {
            "colorbar": {
             "outlinewidth": 0,
             "ticks": ""
            },
            "type": "contourcarpet"
           }
          ],
          "heatmap": [
           {
            "colorbar": {
             "outlinewidth": 0,
             "ticks": ""
            },
            "colorscale": [
             [
              0,
              "#0d0887"
             ],
             [
              0.1111111111111111,
              "#46039f"
             ],
             [
              0.2222222222222222,
              "#7201a8"
             ],
             [
              0.3333333333333333,
              "#9c179e"
             ],
             [
              0.4444444444444444,
              "#bd3786"
             ],
             [
              0.5555555555555556,
              "#d8576b"
             ],
             [
              0.6666666666666666,
              "#ed7953"
             ],
             [
              0.7777777777777778,
              "#fb9f3a"
             ],
             [
              0.8888888888888888,
              "#fdca26"
             ],
             [
              1,
              "#f0f921"
             ]
            ],
            "type": "heatmap"
           }
          ],
          "heatmapgl": [
           {
            "colorbar": {
             "outlinewidth": 0,
             "ticks": ""
            },
            "colorscale": [
             [
              0,
              "#0d0887"
             ],
             [
              0.1111111111111111,
              "#46039f"
             ],
             [
              0.2222222222222222,
              "#7201a8"
             ],
             [
              0.3333333333333333,
              "#9c179e"
             ],
             [
              0.4444444444444444,
              "#bd3786"
             ],
             [
              0.5555555555555556,
              "#d8576b"
             ],
             [
              0.6666666666666666,
              "#ed7953"
             ],
             [
              0.7777777777777778,
              "#fb9f3a"
             ],
             [
              0.8888888888888888,
              "#fdca26"
             ],
             [
              1,
              "#f0f921"
             ]
            ],
            "type": "heatmapgl"
           }
          ],
          "histogram": [
           {
            "marker": {
             "pattern": {
              "fillmode": "overlay",
              "size": 10,
              "solidity": 0.2
             }
            },
            "type": "histogram"
           }
          ],
          "histogram2d": [
           {
            "colorbar": {
             "outlinewidth": 0,
             "ticks": ""
            },
            "colorscale": [
             [
              0,
              "#0d0887"
             ],
             [
              0.1111111111111111,
              "#46039f"
             ],
             [
              0.2222222222222222,
              "#7201a8"
             ],
             [
              0.3333333333333333,
              "#9c179e"
             ],
             [
              0.4444444444444444,
              "#bd3786"
             ],
             [
              0.5555555555555556,
              "#d8576b"
             ],
             [
              0.6666666666666666,
              "#ed7953"
             ],
             [
              0.7777777777777778,
              "#fb9f3a"
             ],
             [
              0.8888888888888888,
              "#fdca26"
             ],
             [
              1,
              "#f0f921"
             ]
            ],
            "type": "histogram2d"
           }
          ],
          "histogram2dcontour": [
           {
            "colorbar": {
             "outlinewidth": 0,
             "ticks": ""
            },
            "colorscale": [
             [
              0,
              "#0d0887"
             ],
             [
              0.1111111111111111,
              "#46039f"
             ],
             [
              0.2222222222222222,
              "#7201a8"
             ],
             [
              0.3333333333333333,
              "#9c179e"
             ],
             [
              0.4444444444444444,
              "#bd3786"
             ],
             [
              0.5555555555555556,
              "#d8576b"
             ],
             [
              0.6666666666666666,
              "#ed7953"
             ],
             [
              0.7777777777777778,
              "#fb9f3a"
             ],
             [
              0.8888888888888888,
              "#fdca26"
             ],
             [
              1,
              "#f0f921"
             ]
            ],
            "type": "histogram2dcontour"
           }
          ],
          "mesh3d": [
           {
            "colorbar": {
             "outlinewidth": 0,
             "ticks": ""
            },
            "type": "mesh3d"
           }
          ],
          "parcoords": [
           {
            "line": {
             "colorbar": {
              "outlinewidth": 0,
              "ticks": ""
             }
            },
            "type": "parcoords"
           }
          ],
          "pie": [
           {
            "automargin": true,
            "type": "pie"
           }
          ],
          "scatter": [
           {
            "fillpattern": {
             "fillmode": "overlay",
             "size": 10,
             "solidity": 0.2
            },
            "type": "scatter"
           }
          ],
          "scatter3d": [
           {
            "line": {
             "colorbar": {
              "outlinewidth": 0,
              "ticks": ""
             }
            },
            "marker": {
             "colorbar": {
              "outlinewidth": 0,
              "ticks": ""
             }
            },
            "type": "scatter3d"
           }
          ],
          "scattercarpet": [
           {
            "marker": {
             "colorbar": {
              "outlinewidth": 0,
              "ticks": ""
             }
            },
            "type": "scattercarpet"
           }
          ],
          "scattergeo": [
           {
            "marker": {
             "colorbar": {
              "outlinewidth": 0,
              "ticks": ""
             }
            },
            "type": "scattergeo"
           }
          ],
          "scattergl": [
           {
            "marker": {
             "colorbar": {
              "outlinewidth": 0,
              "ticks": ""
             }
            },
            "type": "scattergl"
           }
          ],
          "scattermapbox": [
           {
            "marker": {
             "colorbar": {
              "outlinewidth": 0,
              "ticks": ""
             }
            },
            "type": "scattermapbox"
           }
          ],
          "scatterpolar": [
           {
            "marker": {
             "colorbar": {
              "outlinewidth": 0,
              "ticks": ""
             }
            },
            "type": "scatterpolar"
           }
          ],
          "scatterpolargl": [
           {
            "marker": {
             "colorbar": {
              "outlinewidth": 0,
              "ticks": ""
             }
            },
            "type": "scatterpolargl"
           }
          ],
          "scatterternary": [
           {
            "marker": {
             "colorbar": {
              "outlinewidth": 0,
              "ticks": ""
             }
            },
            "type": "scatterternary"
           }
          ],
          "surface": [
           {
            "colorbar": {
             "outlinewidth": 0,
             "ticks": ""
            },
            "colorscale": [
             [
              0,
              "#0d0887"
             ],
             [
              0.1111111111111111,
              "#46039f"
             ],
             [
              0.2222222222222222,
              "#7201a8"
             ],
             [
              0.3333333333333333,
              "#9c179e"
             ],
             [
              0.4444444444444444,
              "#bd3786"
             ],
             [
              0.5555555555555556,
              "#d8576b"
             ],
             [
              0.6666666666666666,
              "#ed7953"
             ],
             [
              0.7777777777777778,
              "#fb9f3a"
             ],
             [
              0.8888888888888888,
              "#fdca26"
             ],
             [
              1,
              "#f0f921"
             ]
            ],
            "type": "surface"
           }
          ],
          "table": [
           {
            "cells": {
             "fill": {
              "color": "#EBF0F8"
             },
             "line": {
              "color": "white"
             }
            },
            "header": {
             "fill": {
              "color": "#C8D4E3"
             },
             "line": {
              "color": "white"
             }
            },
            "type": "table"
           }
          ]
         },
         "layout": {
          "annotationdefaults": {
           "arrowcolor": "#2a3f5f",
           "arrowhead": 0,
           "arrowwidth": 1
          },
          "autotypenumbers": "strict",
          "coloraxis": {
           "colorbar": {
            "outlinewidth": 0,
            "ticks": ""
           }
          },
          "colorscale": {
           "diverging": [
            [
             0,
             "#8e0152"
            ],
            [
             0.1,
             "#c51b7d"
            ],
            [
             0.2,
             "#de77ae"
            ],
            [
             0.3,
             "#f1b6da"
            ],
            [
             0.4,
             "#fde0ef"
            ],
            [
             0.5,
             "#f7f7f7"
            ],
            [
             0.6,
             "#e6f5d0"
            ],
            [
             0.7,
             "#b8e186"
            ],
            [
             0.8,
             "#7fbc41"
            ],
            [
             0.9,
             "#4d9221"
            ],
            [
             1,
             "#276419"
            ]
           ],
           "sequential": [
            [
             0,
             "#0d0887"
            ],
            [
             0.1111111111111111,
             "#46039f"
            ],
            [
             0.2222222222222222,
             "#7201a8"
            ],
            [
             0.3333333333333333,
             "#9c179e"
            ],
            [
             0.4444444444444444,
             "#bd3786"
            ],
            [
             0.5555555555555556,
             "#d8576b"
            ],
            [
             0.6666666666666666,
             "#ed7953"
            ],
            [
             0.7777777777777778,
             "#fb9f3a"
            ],
            [
             0.8888888888888888,
             "#fdca26"
            ],
            [
             1,
             "#f0f921"
            ]
           ],
           "sequentialminus": [
            [
             0,
             "#0d0887"
            ],
            [
             0.1111111111111111,
             "#46039f"
            ],
            [
             0.2222222222222222,
             "#7201a8"
            ],
            [
             0.3333333333333333,
             "#9c179e"
            ],
            [
             0.4444444444444444,
             "#bd3786"
            ],
            [
             0.5555555555555556,
             "#d8576b"
            ],
            [
             0.6666666666666666,
             "#ed7953"
            ],
            [
             0.7777777777777778,
             "#fb9f3a"
            ],
            [
             0.8888888888888888,
             "#fdca26"
            ],
            [
             1,
             "#f0f921"
            ]
           ]
          },
          "colorway": [
           "#636efa",
           "#EF553B",
           "#00cc96",
           "#ab63fa",
           "#FFA15A",
           "#19d3f3",
           "#FF6692",
           "#B6E880",
           "#FF97FF",
           "#FECB52"
          ],
          "font": {
           "color": "#2a3f5f"
          },
          "geo": {
           "bgcolor": "white",
           "lakecolor": "white",
           "landcolor": "#E5ECF6",
           "showlakes": true,
           "showland": true,
           "subunitcolor": "white"
          },
          "hoverlabel": {
           "align": "left"
          },
          "hovermode": "closest",
          "mapbox": {
           "style": "light"
          },
          "paper_bgcolor": "white",
          "plot_bgcolor": "#E5ECF6",
          "polar": {
           "angularaxis": {
            "gridcolor": "white",
            "linecolor": "white",
            "ticks": ""
           },
           "bgcolor": "#E5ECF6",
           "radialaxis": {
            "gridcolor": "white",
            "linecolor": "white",
            "ticks": ""
           }
          },
          "scene": {
           "xaxis": {
            "backgroundcolor": "#E5ECF6",
            "gridcolor": "white",
            "gridwidth": 2,
            "linecolor": "white",
            "showbackground": true,
            "ticks": "",
            "zerolinecolor": "white"
           },
           "yaxis": {
            "backgroundcolor": "#E5ECF6",
            "gridcolor": "white",
            "gridwidth": 2,
            "linecolor": "white",
            "showbackground": true,
            "ticks": "",
            "zerolinecolor": "white"
           },
           "zaxis": {
            "backgroundcolor": "#E5ECF6",
            "gridcolor": "white",
            "gridwidth": 2,
            "linecolor": "white",
            "showbackground": true,
            "ticks": "",
            "zerolinecolor": "white"
           }
          },
          "shapedefaults": {
           "line": {
            "color": "#2a3f5f"
           }
          },
          "ternary": {
           "aaxis": {
            "gridcolor": "white",
            "linecolor": "white",
            "ticks": ""
           },
           "baxis": {
            "gridcolor": "white",
            "linecolor": "white",
            "ticks": ""
           },
           "bgcolor": "#E5ECF6",
           "caxis": {
            "gridcolor": "white",
            "linecolor": "white",
            "ticks": ""
           }
          },
          "title": {
           "x": 0.05
          },
          "xaxis": {
           "automargin": true,
           "gridcolor": "white",
           "linecolor": "white",
           "ticks": "",
           "title": {
            "standoff": 15
           },
           "zerolinecolor": "white",
           "zerolinewidth": 2
          },
          "yaxis": {
           "automargin": true,
           "gridcolor": "white",
           "linecolor": "white",
           "ticks": "",
           "title": {
            "standoff": 15
           },
           "zerolinecolor": "white",
           "zerolinewidth": 2
          }
         }
        },
        "xaxis": {
         "anchor": "y",
         "domain": [
          0,
          1
         ],
         "title": {
          "text": "0"
         }
        },
        "yaxis": {
         "anchor": "x",
         "domain": [
          0,
          1
         ],
         "title": {
          "text": "1"
         }
        }
       }
      }
     },
     "metadata": {},
     "output_type": "display_data"
    },
    {
     "data": {
      "application/vnd.plotly.v1+json": {
       "config": {
        "plotlyServerURL": "https://plot.ly"
       },
       "data": [
        {
         "hovertemplate": "0=%{x}<br>1=%{y}<br>2=%{z}<br>species=%{marker.color}<extra></extra>",
         "legendgroup": "",
         "marker": {
          "color": [
           0,
           0,
           0,
           0,
           0,
           0,
           0,
           0,
           0,
           0,
           0,
           0,
           0,
           0,
           0,
           0,
           0,
           0,
           0,
           0,
           0,
           0,
           0,
           0,
           0,
           0,
           0,
           0,
           0,
           0,
           0,
           0,
           0,
           0,
           0,
           0,
           0,
           0,
           0,
           0,
           0,
           0,
           0,
           0,
           0,
           0,
           0,
           0,
           0,
           0,
           1,
           1,
           1,
           1,
           1,
           1,
           1,
           1,
           1,
           1,
           1,
           1,
           1,
           1,
           1,
           1,
           1,
           1,
           1,
           1,
           1,
           1,
           1,
           1,
           1,
           1,
           1,
           1,
           1,
           1,
           1,
           1,
           1,
           1,
           1,
           1,
           1,
           1,
           1,
           1,
           1,
           1,
           1,
           1,
           1,
           1,
           1,
           1,
           1,
           1,
           2,
           2,
           2,
           2,
           2,
           2,
           2,
           2,
           2,
           2,
           2,
           2,
           2,
           2,
           2,
           2,
           2,
           2,
           2,
           2,
           2,
           2,
           2,
           2,
           2,
           2,
           2,
           2,
           2,
           2,
           2,
           2,
           2,
           2,
           2,
           2,
           2,
           2,
           2,
           2,
           2,
           2,
           2,
           2,
           2,
           2,
           2,
           2,
           2,
           2
          ],
          "coloraxis": "coloraxis",
          "size": 5,
          "symbol": "circle"
         },
         "mode": "markers",
         "name": "",
         "scene": "scene",
         "showlegend": false,
         "type": "scatter3d",
         "x": [
          -2.684125625969542,
          -2.7141416872943265,
          -2.888990569059299,
          -2.745342855641412,
          -2.7287165365545323,
          -2.2808596328444932,
          -2.8205377507406104,
          -2.6261449731466344,
          -2.886382731780555,
          -2.6727557978209555,
          -2.5069470906518574,
          -2.6127552309087245,
          -2.7861092661880194,
          -3.2238037438656546,
          -2.6447503899420304,
          -2.386039033531135,
          -2.6235278752244278,
          -2.648296706254383,
          -2.199820323617581,
          -2.5879863998787704,
          -2.3102562152425192,
          -2.543705228757158,
          -3.2159394156486125,
          -2.3027331822262083,
          -2.355754049123774,
          -2.5066689069258237,
          -2.4688200731213406,
          -2.562319906196018,
          -2.6395347153845443,
          -2.6319893872743476,
          -2.587398476689354,
          -2.4099324970021763,
          -2.6488623343499134,
          -2.598736749100589,
          -2.6369268781058004,
          -2.866241652118671,
          -2.625238049850374,
          -2.8006841154482234,
          -2.9805020437819953,
          -2.5900063139680976,
          -2.7701024260279037,
          -2.849368705043106,
          -2.9974065465949096,
          -2.4056144850974874,
          -2.209489237783681,
          -2.714451426757709,
          -2.538148258998942,
          -2.8394621676428518,
          -2.5430857498303947,
          -2.703359782335162,
          1.284825688858352,
          0.9324885323123182,
          1.4643023219913938,
          0.18331771995836993,
          1.088103257711666,
          0.6416690842580773,
          1.0950606626324466,
          -0.7491226698296581,
          1.0441318260534358,
          -0.008745404082897113,
          -0.507840883835327,
          0.5116985574475971,
          0.2649765081120461,
          0.9849345104708902,
          -0.17392537168176844,
          0.9278607809442472,
          0.6602837616969366,
          0.23610499331767118,
          0.9447337280198131,
          0.04522697629869929,
          1.1162831773500494,
          0.3578884179973069,
          1.2981838753589134,
          0.9217289224470369,
          0.7148533259114115,
          0.9001743731721675,
          1.3320244367220888,
          1.5578021550660706,
          0.8132906498175411,
          -0.3055837780243097,
          -0.0681264920683643,
          -0.1896224723785027,
          0.13642871155801442,
          1.380026435915511,
          0.5880064433398632,
          0.8068583125004121,
          1.2206908824443528,
          0.8150952357665997,
          0.24595767988669195,
          0.1664132171454563,
          0.46480028840377874,
          0.8908151984694491,
          0.23054802355945483,
          -0.7045317592446648,
          0.35698149470104656,
          0.3319344799450578,
          0.37621565106666993,
          0.6425760075543377,
          -0.9064698649488373,
          0.2990008418781428,
          2.531192727803628,
          1.4152358767039022,
          2.61667601599569,
          1.9715310530434356,
          2.3500059200446404,
          3.3970387360532595,
          0.521232243909773,
          2.9325870689936897,
          2.3212288165733783,
          2.9167509667860734,
          1.6617741536365316,
          1.803401952965091,
          2.1655917960801454,
          1.3461635794584512,
          1.5859282238732209,
          1.904456374793427,
          1.9496890593990694,
          3.4870553642902804,
          3.7956454220728846,
          1.300791712637657,
          2.427817913066046,
          1.19900110546556,
          3.4999200389245386,
          1.3887661316914652,
          2.275430503872205,
          2.614090473810832,
          1.2585081605114878,
          1.2911320591150208,
          2.123608722773895,
          2.3880030160034686,
          2.8416727781038715,
          3.230673661432094,
          2.15943764248905,
          1.4441612423295096,
          1.7812948100451123,
          3.076499931687188,
          2.144243314302082,
          1.9050981488140755,
          1.1693263393414999,
          2.107611143257242,
          2.3141547052356,
          1.9222678009026013,
          1.4152358767039022,
          2.5630133750774764,
          2.4187461827328254,
          1.944109794546968,
          1.527166614814517,
          1.7643457170444292,
          1.9009416142184234,
          1.3901888619479135
         ],
         "y": [
          0.31939724658510305,
          -0.1770012250647806,
          -0.14494942608555744,
          -0.3182989792519163,
          0.3267545129349198,
          0.741330449062915,
          -0.08946138452856905,
          0.16338495969832867,
          -0.5783117541867042,
          -0.11377424587411686,
          0.6450688986485742,
          0.01472993916137436,
          -0.2351120002017185,
          -0.5113945870063825,
          1.1787646364375757,
          1.3380623304006531,
          0.8106795141812578,
          0.31184914459335483,
          0.8728390389622113,
          0.513560308749277,
          0.39134593565389447,
          0.43299606327902823,
          0.13346806953852564,
          0.09870885481409927,
          -0.037281859677382734,
          -0.14601688049526776,
          0.13095148943525017,
          0.3677188574342001,
          0.31203998023528307,
          -0.19696122492431467,
          -0.20431849127413357,
          0.4109242642295731,
          0.8133638202969622,
          1.0931457594493572,
          -0.12132234786586323,
          0.06936447158008058,
          0.5993700213794241,
          0.2686437377979823,
          -0.4879583444286158,
          0.22904383682701268,
          0.26352753374425647,
          -0.940960573641197,
          -0.3419260574716102,
          0.18887142893026015,
          0.43666314163918785,
          -0.2502082041852113,
          0.5037711444614377,
          -0.22794556949382783,
          0.5794100215198895,
          0.10770608249941162,
          0.6851604704673088,
          0.3183336382626288,
          0.5042628153092042,
          -0.8279590118206325,
          0.07459067519771612,
          -0.41824687156867923,
          0.28346827006152875,
          -1.0048909611818957,
          0.2283618997883956,
          -0.7230819050048347,
          -1.2659711905263942,
          -0.10398123549904077,
          -0.5500364636804748,
          -0.12481785412635765,
          -0.2548542087025897,
          0.46717949444151063,
          -0.352969665723851,
          -0.3336107668249156,
          -0.5431455507797667,
          -0.5838343774718646,
          -0.08461685219478861,
          -0.06892503165601409,
          -0.3277873083339176,
          -0.1827377936213677,
          0.14905594436978475,
          0.3285044738343233,
          0.24444087601634362,
          0.2674954473102546,
          -0.1633503006876166,
          -0.36826218975458813,
          -0.7051721317994657,
          -0.6802867635281337,
          -0.31403243824923693,
          -0.42095428731388235,
          -0.48428741998121894,
          0.19418231471315045,
          0.40761959361100714,
          -0.3720370599095018,
          -0.2685243966220153,
          -0.6819267248636272,
          -0.6707115445117209,
          -0.03446444436826912,
          -0.40438584800732535,
          -1.0122482275317148,
          -0.504910093337109,
          -0.21265468378117022,
          -0.29321892925141935,
          0.01773819011241614,
          -0.7560933665990144,
          -0.3488978064503363,
          -0.009849109498802801,
          -0.5749163475464901,
          0.3439031513417341,
          -0.17972790435224595,
          -0.0402609471425316,
          0.5508366730280554,
          -1.1927587270006463,
          0.3555000029774963,
          -0.24383150231069087,
          0.7827919488152781,
          0.2422284077550667,
          -0.21563761733355577,
          0.21627558507402442,
          -0.7768183473443404,
          -0.5396407140267195,
          0.11925069209197217,
          0.041943259663211024,
          1.1757393297134293,
          0.2573229734204794,
          -0.7611496364350637,
          0.3781960126170504,
          -0.6060915277579313,
          0.46067409891189504,
          -0.20439932735215124,
          0.334990605821677,
          0.5609013551230777,
          -0.17970479472274706,
          -0.1166686511740119,
          -0.2097294766773032,
          0.46463980470873645,
          0.3752691671951033,
          1.3741650867930475,
          -0.21727757866904956,
          -0.143413410457581,
          -0.499901681078137,
          0.6880856775711758,
          0.1400642010897892,
          0.04930052601302983,
          -0.16499026202311012,
          0.3722878719607974,
          0.18365127916901844,
          0.4092034668160619,
          -0.5749163475464901,
          0.2778626029291944,
          0.3047981978546915,
          0.18753230280060482,
          -0.3753169825804888,
          0.07885885451847535,
          0.11662795851202283,
          -0.28266093799055114
         ],
         "z": [
          -0.02791482758941562,
          -0.21046427237824372,
          0.017900256320890044,
          0.03155937360568086,
          0.09007924055120109,
          0.16867765820910446,
          0.2578921582556177,
          -0.02187931788671974,
          0.02075957026478004,
          -0.1976327249881465,
          -0.07531800937912025,
          0.10215025995658966,
          -0.20684443044964454,
          0.06129967245709896,
          -0.15162752361780918,
          0.27777690270313554,
          0.13818322788071916,
          0.02666831561259387,
          -0.1203055233947309,
          0.21366517222471573,
          -0.23944404324495336,
          0.20845723241671488,
          0.292396750745242,
          0.03912325874288069,
          0.12502108270287857,
          -0.25342004234465754,
          0.09491057609939167,
          -0.07849420513792424,
          -0.1459088957300291,
          0.040771079067178966,
          -0.07722298907343586,
          -0.14552497200513093,
          0.22566914972011928,
          0.15781081295821997,
          -0.14304958178613902,
          -0.1643323066530256,
          -0.2683503756939363,
          0.09369908247979992,
          0.07292704569269232,
          -0.08008230301732605,
          0.0772476931611038,
          -0.34923037730596634,
          0.19250921171270954,
          0.26386794551341536,
          0.2987427457551085,
          -0.09767814404562948,
          0.16670563660480442,
          0.08372684903359313,
          -0.01711502424851334,
          -0.08929400847882464,
          -0.40656802546769405,
          -0.018014186646240424,
          -0.3383257649808962,
          -0.17959139187535542,
          -0.3077578962347847,
          0.04107609082395571,
          0.16981023986057497,
          0.012302919237595087,
          -0.4153360847593976,
          0.2811414311764094,
          -0.26981718276885275,
          0.13054775024048593,
          -0.694146830144419,
          -0.062114408322261234,
          0.09045769072570432,
          -0.3146209758321723,
          0.3280275283785948,
          -0.27116183725106685,
          -0.49951904648511275,
          -0.23500210497205598,
          0.45962099135910367,
          -0.22985388760895153,
          -0.34785435225730826,
          -0.23107177773628487,
          -0.3218009372444739,
          -0.31620907371157403,
          -0.5217027796644191,
          -0.16492098374358044,
          0.03542450484615999,
          -0.318491580623047,
          -0.24421381043355447,
          -0.3064205612176584,
          -0.17724276601124436,
          0.01616712752072856,
          0.4444334986398074,
          0.3889630630982104,
          -0.23716700988387582,
          -0.614720842591822,
          0.1883668116461944,
          -0.06000922585533824,
          -0.024306855718951925,
          -0.009946932894349015,
          -0.22941024143915661,
          -0.10569114890301984,
          0.016617170198265266,
          0.0832042908956764,
          0.07799635108767544,
          -0.20539496698326082,
          -0.012599647557890194,
          0.010581660495570416,
          0.7601654272458949,
          0.2963225273879642,
          -0.11078788321910894,
          0.10842466246342267,
          0.28538956318444114,
          -0.3484375557974673,
          0.5456592956468121,
          -0.42023993576796803,
          -0.34830439493484505,
          0.4233354176825583,
          0.2424401897257689,
          -0.03764816823148252,
          0.03332664184432518,
          0.2819028821184646,
          0.6290293264080102,
          0.47963981962659025,
          0.04418616763012194,
          0.13389487393609817,
          -0.5137677638178043,
          -0.3449950383134181,
          0.2191193243019431,
          0.5118555086970006,
          -0.5731822425680024,
          -0.0645227566312684,
          0.2861500911691496,
          -0.205534524353625,
          0.04584770392724987,
          0.2312564626599702,
          0.1541800239288299,
          -0.44953019194184984,
          -0.49889807587076873,
          -0.11454820547541908,
          0.20876316713083745,
          -0.15323388806309018,
          -0.17287518911341998,
          -0.33559229243454064,
          0.7348789367255107,
          0.1621802357707367,
          0.2818358402084801,
          0.027291132141630675,
          0.3226937471730589,
          0.11358659579935655,
          0.2963225273879642,
          0.2925695245967426,
          0.5044826639771798,
          0.17782509063265745,
          -0.1218981718671818,
          0.13048163128784807,
          0.7232515634899167,
          0.36290964808537524
         ]
        }
       ],
       "layout": {
        "coloraxis": {
         "colorbar": {
          "title": {
           "text": "species"
          }
         },
         "colorscale": [
          [
           0,
           "#0d0887"
          ],
          [
           0.1111111111111111,
           "#46039f"
          ],
          [
           0.2222222222222222,
           "#7201a8"
          ],
          [
           0.3333333333333333,
           "#9c179e"
          ],
          [
           0.4444444444444444,
           "#bd3786"
          ],
          [
           0.5555555555555556,
           "#d8576b"
          ],
          [
           0.6666666666666666,
           "#ed7953"
          ],
          [
           0.7777777777777778,
           "#fb9f3a"
          ],
          [
           0.8888888888888888,
           "#fdca26"
          ],
          [
           1,
           "#f0f921"
          ]
         ]
        },
        "legend": {
         "tracegroupgap": 0
        },
        "margin": {
         "t": 60
        },
        "scene": {
         "domain": {
          "x": [
           0,
           1
          ],
          "y": [
           0,
           1
          ]
         },
         "xaxis": {
          "title": {
           "text": "0"
          }
         },
         "yaxis": {
          "title": {
           "text": "1"
          }
         },
         "zaxis": {
          "title": {
           "text": "2"
          }
         }
        },
        "template": {
         "data": {
          "bar": [
           {
            "error_x": {
             "color": "#2a3f5f"
            },
            "error_y": {
             "color": "#2a3f5f"
            },
            "marker": {
             "line": {
              "color": "#E5ECF6",
              "width": 0.5
             },
             "pattern": {
              "fillmode": "overlay",
              "size": 10,
              "solidity": 0.2
             }
            },
            "type": "bar"
           }
          ],
          "barpolar": [
           {
            "marker": {
             "line": {
              "color": "#E5ECF6",
              "width": 0.5
             },
             "pattern": {
              "fillmode": "overlay",
              "size": 10,
              "solidity": 0.2
             }
            },
            "type": "barpolar"
           }
          ],
          "carpet": [
           {
            "aaxis": {
             "endlinecolor": "#2a3f5f",
             "gridcolor": "white",
             "linecolor": "white",
             "minorgridcolor": "white",
             "startlinecolor": "#2a3f5f"
            },
            "baxis": {
             "endlinecolor": "#2a3f5f",
             "gridcolor": "white",
             "linecolor": "white",
             "minorgridcolor": "white",
             "startlinecolor": "#2a3f5f"
            },
            "type": "carpet"
           }
          ],
          "choropleth": [
           {
            "colorbar": {
             "outlinewidth": 0,
             "ticks": ""
            },
            "type": "choropleth"
           }
          ],
          "contour": [
           {
            "colorbar": {
             "outlinewidth": 0,
             "ticks": ""
            },
            "colorscale": [
             [
              0,
              "#0d0887"
             ],
             [
              0.1111111111111111,
              "#46039f"
             ],
             [
              0.2222222222222222,
              "#7201a8"
             ],
             [
              0.3333333333333333,
              "#9c179e"
             ],
             [
              0.4444444444444444,
              "#bd3786"
             ],
             [
              0.5555555555555556,
              "#d8576b"
             ],
             [
              0.6666666666666666,
              "#ed7953"
             ],
             [
              0.7777777777777778,
              "#fb9f3a"
             ],
             [
              0.8888888888888888,
              "#fdca26"
             ],
             [
              1,
              "#f0f921"
             ]
            ],
            "type": "contour"
           }
          ],
          "contourcarpet": [
           {
            "colorbar": {
             "outlinewidth": 0,
             "ticks": ""
            },
            "type": "contourcarpet"
           }
          ],
          "heatmap": [
           {
            "colorbar": {
             "outlinewidth": 0,
             "ticks": ""
            },
            "colorscale": [
             [
              0,
              "#0d0887"
             ],
             [
              0.1111111111111111,
              "#46039f"
             ],
             [
              0.2222222222222222,
              "#7201a8"
             ],
             [
              0.3333333333333333,
              "#9c179e"
             ],
             [
              0.4444444444444444,
              "#bd3786"
             ],
             [
              0.5555555555555556,
              "#d8576b"
             ],
             [
              0.6666666666666666,
              "#ed7953"
             ],
             [
              0.7777777777777778,
              "#fb9f3a"
             ],
             [
              0.8888888888888888,
              "#fdca26"
             ],
             [
              1,
              "#f0f921"
             ]
            ],
            "type": "heatmap"
           }
          ],
          "heatmapgl": [
           {
            "colorbar": {
             "outlinewidth": 0,
             "ticks": ""
            },
            "colorscale": [
             [
              0,
              "#0d0887"
             ],
             [
              0.1111111111111111,
              "#46039f"
             ],
             [
              0.2222222222222222,
              "#7201a8"
             ],
             [
              0.3333333333333333,
              "#9c179e"
             ],
             [
              0.4444444444444444,
              "#bd3786"
             ],
             [
              0.5555555555555556,
              "#d8576b"
             ],
             [
              0.6666666666666666,
              "#ed7953"
             ],
             [
              0.7777777777777778,
              "#fb9f3a"
             ],
             [
              0.8888888888888888,
              "#fdca26"
             ],
             [
              1,
              "#f0f921"
             ]
            ],
            "type": "heatmapgl"
           }
          ],
          "histogram": [
           {
            "marker": {
             "pattern": {
              "fillmode": "overlay",
              "size": 10,
              "solidity": 0.2
             }
            },
            "type": "histogram"
           }
          ],
          "histogram2d": [
           {
            "colorbar": {
             "outlinewidth": 0,
             "ticks": ""
            },
            "colorscale": [
             [
              0,
              "#0d0887"
             ],
             [
              0.1111111111111111,
              "#46039f"
             ],
             [
              0.2222222222222222,
              "#7201a8"
             ],
             [
              0.3333333333333333,
              "#9c179e"
             ],
             [
              0.4444444444444444,
              "#bd3786"
             ],
             [
              0.5555555555555556,
              "#d8576b"
             ],
             [
              0.6666666666666666,
              "#ed7953"
             ],
             [
              0.7777777777777778,
              "#fb9f3a"
             ],
             [
              0.8888888888888888,
              "#fdca26"
             ],
             [
              1,
              "#f0f921"
             ]
            ],
            "type": "histogram2d"
           }
          ],
          "histogram2dcontour": [
           {
            "colorbar": {
             "outlinewidth": 0,
             "ticks": ""
            },
            "colorscale": [
             [
              0,
              "#0d0887"
             ],
             [
              0.1111111111111111,
              "#46039f"
             ],
             [
              0.2222222222222222,
              "#7201a8"
             ],
             [
              0.3333333333333333,
              "#9c179e"
             ],
             [
              0.4444444444444444,
              "#bd3786"
             ],
             [
              0.5555555555555556,
              "#d8576b"
             ],
             [
              0.6666666666666666,
              "#ed7953"
             ],
             [
              0.7777777777777778,
              "#fb9f3a"
             ],
             [
              0.8888888888888888,
              "#fdca26"
             ],
             [
              1,
              "#f0f921"
             ]
            ],
            "type": "histogram2dcontour"
           }
          ],
          "mesh3d": [
           {
            "colorbar": {
             "outlinewidth": 0,
             "ticks": ""
            },
            "type": "mesh3d"
           }
          ],
          "parcoords": [
           {
            "line": {
             "colorbar": {
              "outlinewidth": 0,
              "ticks": ""
             }
            },
            "type": "parcoords"
           }
          ],
          "pie": [
           {
            "automargin": true,
            "type": "pie"
           }
          ],
          "scatter": [
           {
            "fillpattern": {
             "fillmode": "overlay",
             "size": 10,
             "solidity": 0.2
            },
            "type": "scatter"
           }
          ],
          "scatter3d": [
           {
            "line": {
             "colorbar": {
              "outlinewidth": 0,
              "ticks": ""
             }
            },
            "marker": {
             "colorbar": {
              "outlinewidth": 0,
              "ticks": ""
             }
            },
            "type": "scatter3d"
           }
          ],
          "scattercarpet": [
           {
            "marker": {
             "colorbar": {
              "outlinewidth": 0,
              "ticks": ""
             }
            },
            "type": "scattercarpet"
           }
          ],
          "scattergeo": [
           {
            "marker": {
             "colorbar": {
              "outlinewidth": 0,
              "ticks": ""
             }
            },
            "type": "scattergeo"
           }
          ],
          "scattergl": [
           {
            "marker": {
             "colorbar": {
              "outlinewidth": 0,
              "ticks": ""
             }
            },
            "type": "scattergl"
           }
          ],
          "scattermapbox": [
           {
            "marker": {
             "colorbar": {
              "outlinewidth": 0,
              "ticks": ""
             }
            },
            "type": "scattermapbox"
           }
          ],
          "scatterpolar": [
           {
            "marker": {
             "colorbar": {
              "outlinewidth": 0,
              "ticks": ""
             }
            },
            "type": "scatterpolar"
           }
          ],
          "scatterpolargl": [
           {
            "marker": {
             "colorbar": {
              "outlinewidth": 0,
              "ticks": ""
             }
            },
            "type": "scatterpolargl"
           }
          ],
          "scatterternary": [
           {
            "marker": {
             "colorbar": {
              "outlinewidth": 0,
              "ticks": ""
             }
            },
            "type": "scatterternary"
           }
          ],
          "surface": [
           {
            "colorbar": {
             "outlinewidth": 0,
             "ticks": ""
            },
            "colorscale": [
             [
              0,
              "#0d0887"
             ],
             [
              0.1111111111111111,
              "#46039f"
             ],
             [
              0.2222222222222222,
              "#7201a8"
             ],
             [
              0.3333333333333333,
              "#9c179e"
             ],
             [
              0.4444444444444444,
              "#bd3786"
             ],
             [
              0.5555555555555556,
              "#d8576b"
             ],
             [
              0.6666666666666666,
              "#ed7953"
             ],
             [
              0.7777777777777778,
              "#fb9f3a"
             ],
             [
              0.8888888888888888,
              "#fdca26"
             ],
             [
              1,
              "#f0f921"
             ]
            ],
            "type": "surface"
           }
          ],
          "table": [
           {
            "cells": {
             "fill": {
              "color": "#EBF0F8"
             },
             "line": {
              "color": "white"
             }
            },
            "header": {
             "fill": {
              "color": "#C8D4E3"
             },
             "line": {
              "color": "white"
             }
            },
            "type": "table"
           }
          ]
         },
         "layout": {
          "annotationdefaults": {
           "arrowcolor": "#2a3f5f",
           "arrowhead": 0,
           "arrowwidth": 1
          },
          "autotypenumbers": "strict",
          "coloraxis": {
           "colorbar": {
            "outlinewidth": 0,
            "ticks": ""
           }
          },
          "colorscale": {
           "diverging": [
            [
             0,
             "#8e0152"
            ],
            [
             0.1,
             "#c51b7d"
            ],
            [
             0.2,
             "#de77ae"
            ],
            [
             0.3,
             "#f1b6da"
            ],
            [
             0.4,
             "#fde0ef"
            ],
            [
             0.5,
             "#f7f7f7"
            ],
            [
             0.6,
             "#e6f5d0"
            ],
            [
             0.7,
             "#b8e186"
            ],
            [
             0.8,
             "#7fbc41"
            ],
            [
             0.9,
             "#4d9221"
            ],
            [
             1,
             "#276419"
            ]
           ],
           "sequential": [
            [
             0,
             "#0d0887"
            ],
            [
             0.1111111111111111,
             "#46039f"
            ],
            [
             0.2222222222222222,
             "#7201a8"
            ],
            [
             0.3333333333333333,
             "#9c179e"
            ],
            [
             0.4444444444444444,
             "#bd3786"
            ],
            [
             0.5555555555555556,
             "#d8576b"
            ],
            [
             0.6666666666666666,
             "#ed7953"
            ],
            [
             0.7777777777777778,
             "#fb9f3a"
            ],
            [
             0.8888888888888888,
             "#fdca26"
            ],
            [
             1,
             "#f0f921"
            ]
           ],
           "sequentialminus": [
            [
             0,
             "#0d0887"
            ],
            [
             0.1111111111111111,
             "#46039f"
            ],
            [
             0.2222222222222222,
             "#7201a8"
            ],
            [
             0.3333333333333333,
             "#9c179e"
            ],
            [
             0.4444444444444444,
             "#bd3786"
            ],
            [
             0.5555555555555556,
             "#d8576b"
            ],
            [
             0.6666666666666666,
             "#ed7953"
            ],
            [
             0.7777777777777778,
             "#fb9f3a"
            ],
            [
             0.8888888888888888,
             "#fdca26"
            ],
            [
             1,
             "#f0f921"
            ]
           ]
          },
          "colorway": [
           "#636efa",
           "#EF553B",
           "#00cc96",
           "#ab63fa",
           "#FFA15A",
           "#19d3f3",
           "#FF6692",
           "#B6E880",
           "#FF97FF",
           "#FECB52"
          ],
          "font": {
           "color": "#2a3f5f"
          },
          "geo": {
           "bgcolor": "white",
           "lakecolor": "white",
           "landcolor": "#E5ECF6",
           "showlakes": true,
           "showland": true,
           "subunitcolor": "white"
          },
          "hoverlabel": {
           "align": "left"
          },
          "hovermode": "closest",
          "mapbox": {
           "style": "light"
          },
          "paper_bgcolor": "white",
          "plot_bgcolor": "#E5ECF6",
          "polar": {
           "angularaxis": {
            "gridcolor": "white",
            "linecolor": "white",
            "ticks": ""
           },
           "bgcolor": "#E5ECF6",
           "radialaxis": {
            "gridcolor": "white",
            "linecolor": "white",
            "ticks": ""
           }
          },
          "scene": {
           "xaxis": {
            "backgroundcolor": "#E5ECF6",
            "gridcolor": "white",
            "gridwidth": 2,
            "linecolor": "white",
            "showbackground": true,
            "ticks": "",
            "zerolinecolor": "white"
           },
           "yaxis": {
            "backgroundcolor": "#E5ECF6",
            "gridcolor": "white",
            "gridwidth": 2,
            "linecolor": "white",
            "showbackground": true,
            "ticks": "",
            "zerolinecolor": "white"
           },
           "zaxis": {
            "backgroundcolor": "#E5ECF6",
            "gridcolor": "white",
            "gridwidth": 2,
            "linecolor": "white",
            "showbackground": true,
            "ticks": "",
            "zerolinecolor": "white"
           }
          },
          "shapedefaults": {
           "line": {
            "color": "#2a3f5f"
           }
          },
          "ternary": {
           "aaxis": {
            "gridcolor": "white",
            "linecolor": "white",
            "ticks": ""
           },
           "baxis": {
            "gridcolor": "white",
            "linecolor": "white",
            "ticks": ""
           },
           "bgcolor": "#E5ECF6",
           "caxis": {
            "gridcolor": "white",
            "linecolor": "white",
            "ticks": ""
           }
          },
          "title": {
           "x": 0.05
          },
          "xaxis": {
           "automargin": true,
           "gridcolor": "white",
           "linecolor": "white",
           "ticks": "",
           "title": {
            "standoff": 15
           },
           "zerolinecolor": "white",
           "zerolinewidth": 2
          },
          "yaxis": {
           "automargin": true,
           "gridcolor": "white",
           "linecolor": "white",
           "ticks": "",
           "title": {
            "standoff": 15
           },
           "zerolinecolor": "white",
           "zerolinewidth": 2
          }
         }
        }
       }
      }
     },
     "metadata": {},
     "output_type": "display_data"
    }
   ],
   "source": [
    "fig_2d = px.scatter(\n",
    "    proj2D, x=0, y=1,\n",
    "    color=Y, labels={'color': 'species'}\n",
    ")\n",
    "fig_3d = px.scatter_3d(\n",
    "    proj3D, x=0, y=1, z=2,\n",
    "    color=Y, labels={'color': 'species'}\n",
    ")\n",
    "fig_3d.update_traces(marker_size=5)\n",
    "\n",
    "fig_2d.show()\n",
    "fig_3d.show()"
   ]
  }
 ],
 "metadata": {
  "kernelspec": {
   "display_name": "machineLearnng",
   "language": "python",
   "name": "python3"
  },
  "language_info": {
   "codemirror_mode": {
    "name": "ipython",
    "version": 3
   },
   "file_extension": ".py",
   "mimetype": "text/x-python",
   "name": "python",
   "nbconvert_exporter": "python",
   "pygments_lexer": "ipython3",
   "version": "3.10.11"
  },
  "orig_nbformat": 4
 },
 "nbformat": 4,
 "nbformat_minor": 2
}
